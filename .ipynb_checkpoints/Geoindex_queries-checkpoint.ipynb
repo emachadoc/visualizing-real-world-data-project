{
 "cells": [
  {
   "cell_type": "code",
   "execution_count": 43,
   "metadata": {},
   "outputs": [],
   "source": [
    "from pymongo import MongoClient\n",
    "import pandas as pd\n",
    "import re"
   ]
  },
  {
   "cell_type": "code",
   "execution_count": 44,
   "metadata": {},
   "outputs": [],
   "source": [
    "# Importo archivo después de geoindex en Mongo Compass\n",
    "\n",
    "client = MongoClient('mongodb://localhost:27017/')\n",
    "db = client.germany_after_geoindex\n"
   ]
  },
  {
   "cell_type": "code",
   "execution_count": 48,
   "metadata": {},
   "outputs": [],
   "source": [
    "comps = db.germany_after_geoindex.find({\n",
    "    \"offices\":{\n",
    "        \"$not\":{\n",
    "            \"$size\":0\n",
    "        }\n",
    "    }\n",
    "})"
   ]
  },
  {
   "cell_type": "code",
   "execution_count": 49,
   "metadata": {},
   "outputs": [
    {
     "data": {
      "text/html": [
       "<div>\n",
       "<style scoped>\n",
       "    .dataframe tbody tr th:only-of-type {\n",
       "        vertical-align: middle;\n",
       "    }\n",
       "\n",
       "    .dataframe tbody tr th {\n",
       "        vertical-align: top;\n",
       "    }\n",
       "\n",
       "    .dataframe thead th {\n",
       "        text-align: right;\n",
       "    }\n",
       "</style>\n",
       "<table border=\"1\" class=\"dataframe\">\n",
       "  <thead>\n",
       "    <tr style=\"text-align: right;\">\n",
       "      <th></th>\n",
       "    </tr>\n",
       "  </thead>\n",
       "  <tbody>\n",
       "  </tbody>\n",
       "</table>\n",
       "</div>"
      ],
      "text/plain": [
       "Empty DataFrame\n",
       "Columns: []\n",
       "Index: []"
      ]
     },
     "execution_count": 49,
     "metadata": {},
     "output_type": "execute_result"
    }
   ],
   "source": [
    "germany_offices = pd.DataFrame(comps)\n",
    "germany_offices.head()"
   ]
  },
  {
   "cell_type": "code",
   "execution_count": 36,
   "metadata": {},
   "outputs": [],
   "source": [
    "class Finder:\n",
    "    def __init__(self, database):\n",
    "        self.database = database\n",
    "        self.radius_list = [2, 4, 6, 8, 10]\n",
    "        self.radius_points = [\n",
    "            {\"id\": 2, \"points\": 10},\n",
    "            {\"id\": 4, \"points\": 8},\n",
    "            {\"id\": 6, \"points\": 6},\n",
    "            {\"id\": 8, \"points\": 4},\n",
    "            {\"id\": 10, \"points\": 2}]\n",
    "\n",
    "\n",
    "    def find_near(self, geopoint, radio_max_meters = 1):\n",
    "        return self.database.germany_after_geoindex.find({\n",
    "            \"geo\": {\n",
    "                \"$near\": {\n",
    "                    \"$geometry\": geopoint,\n",
    "                    \"$maxDistance\": radio_max_meters,\n",
    "                }\n",
    "            }\n",
    "        })\n",
    "\n",
    "\n",
    "    def get_total_score(self, data):\n",
    "        total_score = 0\n",
    "        office_geo = data['geo']\n",
    "        for office_geo_p in office_geo:\n",
    "            for radius in self.radius_list:\n",
    "                near_companies = self.find_near(office_geo, radius*1000)            \n",
    "                for near_company in near_companies:\n",
    "                    score = get_score(near_company, radius)\n",
    "                    total_score += score\n",
    "        return {'score': total_score} \n",
    "                \n",
    "                \n",
    "    def get_radius_points(self, radius):\n",
    "        return (rad_point for rad_point in self.radius_points if rad_point[\"id\"] == radius)\n",
    "\n",
    "\n",
    "    def get_founded_year_points(self, year):\n",
    "        if year >= 2002.0:\n",
    "            return 10\n",
    "        else:\n",
    "            return 0\n",
    "\n",
    "\n",
    "    def get_money_points(self, money):\n",
    "        if (r'\\M+$') in money:\n",
    "            return 10\n",
    "        else:\n",
    "            return 0\n",
    "\n",
    "\n",
    "    def get_employees_points(self, number):\n",
    "        if number < 100:\n",
    "            return 10\n",
    "        else:\n",
    "            return 0\n",
    "\n",
    "\n",
    "    def get_score(self, company, radius):\n",
    "        return self.get_radius_points(radius) + self.get_founded_year_points(company['founded_year']) + self.get_money_points(company['total_money_raised'])+self.get_employees_points(company['number_of_employees'])\n",
    "\n",
    "             "
   ]
  },
  {
   "cell_type": "code",
   "execution_count": 41,
   "metadata": {},
   "outputs": [],
   "source": [
    "localizer = Finder(db)"
   ]
  },
  {
   "cell_type": "code",
   "execution_count": 42,
   "metadata": {},
   "outputs": [
    {
     "ename": "NameError",
     "evalue": "name 'df' is not defined",
     "output_type": "error",
     "traceback": [
      "\u001b[0;31m---------------------------------------------------------------------------\u001b[0m",
      "\u001b[0;31mNameError\u001b[0m                                 Traceback (most recent call last)",
      "\u001b[0;32m<ipython-input-42-3eb7f323bbdc>\u001b[0m in \u001b[0;36m<module>\u001b[0;34m\u001b[0m\n\u001b[0;32m----> 1\u001b[0;31m \u001b[0mscores\u001b[0m \u001b[0;34m=\u001b[0m \u001b[0mdf\u001b[0m\u001b[0;34m[\u001b[0m\u001b[0;34m[\u001b[0m\u001b[0;34m'geo'\u001b[0m\u001b[0;34m]\u001b[0m\u001b[0;34m]\u001b[0m\u001b[0;34m.\u001b[0m\u001b[0mapply\u001b[0m\u001b[0;34m(\u001b[0m\u001b[0mlocalizer\u001b[0m\u001b[0;34m,\u001b[0m \u001b[0mresult_type\u001b[0m\u001b[0;34m=\u001b[0m\u001b[0;34m'expand'\u001b[0m\u001b[0;34m,\u001b[0m \u001b[0maxis\u001b[0m\u001b[0;34m=\u001b[0m\u001b[0;36m1\u001b[0m\u001b[0;34m)\u001b[0m\u001b[0;34m\u001b[0m\u001b[0;34m\u001b[0m\u001b[0m\n\u001b[0m\u001b[1;32m      2\u001b[0m \u001b[0mscores\u001b[0m\u001b[0;34m.\u001b[0m\u001b[0mhead\u001b[0m\u001b[0;34m(\u001b[0m\u001b[0;34m)\u001b[0m\u001b[0;34m\u001b[0m\u001b[0;34m\u001b[0m\u001b[0m\n",
      "\u001b[0;31mNameError\u001b[0m: name 'df' is not defined"
     ]
    }
   ],
   "source": [
    "scores = df[['geo']].apply(localizer, result_type='expand', axis=1)\n",
    "scores.head()"
   ]
  },
  {
   "cell_type": "code",
   "execution_count": null,
   "metadata": {},
   "outputs": [],
   "source": []
  },
  {
   "cell_type": "code",
   "execution_count": null,
   "metadata": {},
   "outputs": [],
   "source": []
  },
  {
   "cell_type": "code",
   "execution_count": null,
   "metadata": {},
   "outputs": [],
   "source": []
  },
  {
   "cell_type": "code",
   "execution_count": null,
   "metadata": {},
   "outputs": [],
   "source": []
  },
  {
   "cell_type": "code",
   "execution_count": null,
   "metadata": {},
   "outputs": [],
   "source": []
  },
  {
   "cell_type": "code",
   "execution_count": null,
   "metadata": {},
   "outputs": [],
   "source": []
  },
  {
   "cell_type": "code",
   "execution_count": null,
   "metadata": {},
   "outputs": [],
   "source": []
  },
  {
   "cell_type": "code",
   "execution_count": null,
   "metadata": {},
   "outputs": [],
   "source": []
  },
  {
   "cell_type": "code",
   "execution_count": null,
   "metadata": {},
   "outputs": [],
   "source": []
  },
  {
   "cell_type": "code",
   "execution_count": null,
   "metadata": {},
   "outputs": [],
   "source": []
  }
 ],
 "metadata": {
  "kernelspec": {
   "display_name": "Python 3",
   "language": "python",
   "name": "python3"
  },
  "language_info": {
   "codemirror_mode": {
    "name": "ipython",
    "version": 3
   },
   "file_extension": ".py",
   "mimetype": "text/x-python",
   "name": "python",
   "nbconvert_exporter": "python",
   "pygments_lexer": "ipython3",
   "version": "3.7.3"
  }
 },
 "nbformat": 4,
 "nbformat_minor": 2
}
